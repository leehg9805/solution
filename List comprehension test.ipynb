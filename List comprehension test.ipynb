{
 "cells": [
  {
   "cell_type": "code",
   "execution_count": 2,
   "id": "7d9badf7",
   "metadata": {},
   "outputs": [],
   "source": [
    "import numpy as np"
   ]
  },
  {
   "cell_type": "code",
   "execution_count": 4,
   "id": "3242eb7e",
   "metadata": {},
   "outputs": [],
   "source": [
    "data= np.random.randint(1,100,100)"
   ]
  },
  {
   "cell_type": "code",
   "execution_count": 6,
   "id": "a5451592",
   "metadata": {},
   "outputs": [
    {
     "data": {
      "text/plain": [
       "array([29, 79,  8, 63, 14, 67, 98, 54, 30, 22, 32, 89, 34, 78, 34, 27, 86,\n",
       "       41, 89, 26, 88, 37, 30, 24, 84, 71, 88, 25, 93,  2, 53, 88, 58, 62,\n",
       "       63, 10, 55, 90, 67, 49, 76, 94, 15, 85, 51, 33, 94, 32, 12, 38, 22,\n",
       "       44, 18, 53, 26, 97, 53, 51, 70, 26, 59, 50, 57, 76, 29, 94, 49, 98,\n",
       "       78, 69, 52, 55, 93, 23, 53, 75, 15, 23, 87, 25, 91, 68, 40, 56, 78,\n",
       "       66, 98, 93,  8, 26, 51, 93, 96, 98, 45, 37, 69, 98, 56, 36])"
      ]
     },
     "execution_count": 6,
     "metadata": {},
     "output_type": "execute_result"
    }
   ],
   "source": [
    "data"
   ]
  },
  {
   "cell_type": "code",
   "execution_count": 9,
   "id": "92f0324d",
   "metadata": {},
   "outputs": [
    {
     "data": {
      "text/plain": [
       "numpy.ndarray"
      ]
     },
     "execution_count": 9,
     "metadata": {},
     "output_type": "execute_result"
    }
   ],
   "source": [
    "type (data)"
   ]
  },
  {
   "cell_type": "code",
   "execution_count": 11,
   "id": "199c13d4",
   "metadata": {},
   "outputs": [
    {
     "data": {
      "text/plain": [
       "100"
      ]
     },
     "execution_count": 11,
     "metadata": {},
     "output_type": "execute_result"
    }
   ],
   "source": [
    "len(data)"
   ]
  },
  {
   "cell_type": "code",
   "execution_count": 13,
   "id": "8789f3b5",
   "metadata": {},
   "outputs": [],
   "source": [
    "data_10x=[value*10for value in data]"
   ]
  },
  {
   "cell_type": "code",
   "execution_count": 15,
   "id": "3240d2ad",
   "metadata": {},
   "outputs": [
    {
     "data": {
      "text/plain": [
       "[290,\n",
       " 790,\n",
       " 80,\n",
       " 630,\n",
       " 140,\n",
       " 670,\n",
       " 980,\n",
       " 540,\n",
       " 300,\n",
       " 220,\n",
       " 320,\n",
       " 890,\n",
       " 340,\n",
       " 780,\n",
       " 340,\n",
       " 270,\n",
       " 860,\n",
       " 410,\n",
       " 890,\n",
       " 260,\n",
       " 880,\n",
       " 370,\n",
       " 300,\n",
       " 240,\n",
       " 840,\n",
       " 710,\n",
       " 880,\n",
       " 250,\n",
       " 930,\n",
       " 20,\n",
       " 530,\n",
       " 880,\n",
       " 580,\n",
       " 620,\n",
       " 630,\n",
       " 100,\n",
       " 550,\n",
       " 900,\n",
       " 670,\n",
       " 490,\n",
       " 760,\n",
       " 940,\n",
       " 150,\n",
       " 850,\n",
       " 510,\n",
       " 330,\n",
       " 940,\n",
       " 320,\n",
       " 120,\n",
       " 380,\n",
       " 220,\n",
       " 440,\n",
       " 180,\n",
       " 530,\n",
       " 260,\n",
       " 970,\n",
       " 530,\n",
       " 510,\n",
       " 700,\n",
       " 260,\n",
       " 590,\n",
       " 500,\n",
       " 570,\n",
       " 760,\n",
       " 290,\n",
       " 940,\n",
       " 490,\n",
       " 980,\n",
       " 780,\n",
       " 690,\n",
       " 520,\n",
       " 550,\n",
       " 930,\n",
       " 230,\n",
       " 530,\n",
       " 750,\n",
       " 150,\n",
       " 230,\n",
       " 870,\n",
       " 250,\n",
       " 910,\n",
       " 680,\n",
       " 400,\n",
       " 560,\n",
       " 780,\n",
       " 660,\n",
       " 980,\n",
       " 930,\n",
       " 80,\n",
       " 260,\n",
       " 510,\n",
       " 930,\n",
       " 960,\n",
       " 980,\n",
       " 450,\n",
       " 370,\n",
       " 690,\n",
       " 980,\n",
       " 560,\n",
       " 360]"
      ]
     },
     "execution_count": 15,
     "metadata": {},
     "output_type": "execute_result"
    }
   ],
   "source": [
    "data_10x"
   ]
  },
  {
   "cell_type": "code",
   "execution_count": 17,
   "id": "0e25b366",
   "metadata": {},
   "outputs": [
    {
     "data": {
      "text/plain": [
       "list"
      ]
     },
     "execution_count": 17,
     "metadata": {},
     "output_type": "execute_result"
    }
   ],
   "source": [
    "type(data_10x)"
   ]
  },
  {
   "cell_type": "code",
   "execution_count": 19,
   "id": "da66bd66",
   "metadata": {},
   "outputs": [],
   "source": [
    "odd_data = [e for e in data if e % 2 ==0]"
   ]
  },
  {
   "cell_type": "code",
   "execution_count": 21,
   "id": "cdcdba20",
   "metadata": {},
   "outputs": [
    {
     "data": {
      "text/plain": [
       "[8,\n",
       " 14,\n",
       " 98,\n",
       " 54,\n",
       " 30,\n",
       " 22,\n",
       " 32,\n",
       " 34,\n",
       " 78,\n",
       " 34,\n",
       " 86,\n",
       " 26,\n",
       " 88,\n",
       " 30,\n",
       " 24,\n",
       " 84,\n",
       " 88,\n",
       " 2,\n",
       " 88,\n",
       " 58,\n",
       " 62,\n",
       " 10,\n",
       " 90,\n",
       " 76,\n",
       " 94,\n",
       " 94,\n",
       " 32,\n",
       " 12,\n",
       " 38,\n",
       " 22,\n",
       " 44,\n",
       " 18,\n",
       " 26,\n",
       " 70,\n",
       " 26,\n",
       " 50,\n",
       " 76,\n",
       " 94,\n",
       " 98,\n",
       " 78,\n",
       " 52,\n",
       " 68,\n",
       " 40,\n",
       " 56,\n",
       " 78,\n",
       " 66,\n",
       " 98,\n",
       " 8,\n",
       " 26,\n",
       " 96,\n",
       " 98,\n",
       " 98,\n",
       " 56,\n",
       " 36]"
      ]
     },
     "execution_count": 21,
     "metadata": {},
     "output_type": "execute_result"
    }
   ],
   "source": [
    "odd_data"
   ]
  },
  {
   "cell_type": "code",
   "execution_count": 23,
   "id": "e867e086",
   "metadata": {},
   "outputs": [],
   "source": [
    "fizz_buzz=['FizzBuzz' if i%3==0 and i%5==0 else 'Fizz' if i%3==0 else 'Buzz' if i %5==0 else i for i in range(1,51)]"
   ]
  },
  {
   "cell_type": "code",
   "execution_count": 24,
   "id": "7288183d",
   "metadata": {},
   "outputs": [
    {
     "data": {
      "text/plain": [
       "[1,\n",
       " 2,\n",
       " 'Fizz',\n",
       " 4,\n",
       " 'Buzz',\n",
       " 'Fizz',\n",
       " 7,\n",
       " 8,\n",
       " 'Fizz',\n",
       " 'Buzz',\n",
       " 11,\n",
       " 'Fizz',\n",
       " 13,\n",
       " 14,\n",
       " 'FizzBuzz',\n",
       " 16,\n",
       " 17,\n",
       " 'Fizz',\n",
       " 19,\n",
       " 'Buzz',\n",
       " 'Fizz',\n",
       " 22,\n",
       " 23,\n",
       " 'Fizz',\n",
       " 'Buzz',\n",
       " 26,\n",
       " 'Fizz',\n",
       " 28,\n",
       " 29,\n",
       " 'FizzBuzz',\n",
       " 31,\n",
       " 32,\n",
       " 'Fizz',\n",
       " 34,\n",
       " 'Buzz',\n",
       " 'Fizz',\n",
       " 37,\n",
       " 38,\n",
       " 'Fizz',\n",
       " 'Buzz',\n",
       " 41,\n",
       " 'Fizz',\n",
       " 43,\n",
       " 44,\n",
       " 'FizzBuzz',\n",
       " 46,\n",
       " 47,\n",
       " 'Fizz',\n",
       " 49,\n",
       " 'Buzz']"
      ]
     },
     "execution_count": 24,
     "metadata": {},
     "output_type": "execute_result"
    }
   ],
   "source": [
    "fizz_buzz"
   ]
  }
 ],
 "metadata": {
  "kernelspec": {
   "display_name": "Python 3 (ipykernel)",
   "language": "python",
   "name": "python3"
  },
  "language_info": {
   "codemirror_mode": {
    "name": "ipython",
    "version": 3
   },
   "file_extension": ".py",
   "mimetype": "text/x-python",
   "name": "python",
   "nbconvert_exporter": "python",
   "pygments_lexer": "ipython3",
   "version": "3.9.7"
  }
 },
 "nbformat": 4,
 "nbformat_minor": 5
}
