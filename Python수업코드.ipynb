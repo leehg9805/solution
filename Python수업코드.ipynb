{
  "cells": [
    {
      "cell_type": "markdown",
      "metadata": {
        "id": "view-in-github",
        "colab_type": "text"
      },
      "source": [
        "<a href=\"https://colab.research.google.com/github/leehg9805/solution/blob/master/Python%EC%88%98%EC%97%85%EC%BD%94%EB%93%9C.ipynb\" target=\"_parent\"><img src=\"https://colab.research.google.com/assets/colab-badge.svg\" alt=\"Open In Colab\"/></a>"
      ]
    },
    {
      "cell_type": "markdown",
      "metadata": {
        "id": "SjLzI-Mkb2yj"
      },
      "source": [
        "## Python 기초"
      ]
    },
    {
      "cell_type": "markdown",
      "metadata": {
        "id": "KL-RHVx3b2yl"
      },
      "source": [
        "## 숫자형"
      ]
    },
    {
      "cell_type": "code",
      "execution_count": null,
      "metadata": {
        "id": "8lzy0PBtb2ym"
      },
      "outputs": [],
      "source": [
        "a=123\n",
        "b=-123.4\n",
        "a+b"
      ]
    },
    {
      "cell_type": "code",
      "execution_count": null,
      "metadata": {
        "id": "rNXdWroLb2ym"
      },
      "outputs": [],
      "source": [
        "c=0o34\n",
        "d=0o24\n",
        "c+d"
      ]
    },
    {
      "cell_type": "code",
      "execution_count": null,
      "metadata": {
        "id": "6ex1JeO0b2yn"
      },
      "outputs": [],
      "source": [
        "e=0x2A\n",
        "f=0xFF\n",
        "e+f"
      ]
    },
    {
      "cell_type": "markdown",
      "metadata": {
        "id": "jPHhyqEfb2yn"
      },
      "source": [
        "## 문자형"
      ]
    },
    {
      "cell_type": "code",
      "execution_count": null,
      "metadata": {
        "id": "PyvHUpj9b2yo"
      },
      "outputs": [],
      "source": [
        "s='WiseInCompany'\n",
        "s1=\"WiseInCompany\"\n",
        "s2='''WiseInCompany'''\n",
        "s3=\"123\"\n",
        "print(s)\n",
        "print(s1)\n",
        "print(s2)\n",
        "print(s3)\n",
        "print(type(s3))"
      ]
    },
    {
      "cell_type": "code",
      "execution_count": null,
      "metadata": {
        "id": "3PZC9oTVb2yo"
      },
      "outputs": [],
      "source": [
        "a=\"Wise\"\n",
        "b=\"InCompany\"\n",
        "print(a+b)\n",
        "\n",
        "a=\"WiseInCompany\"\n",
        "print(a*2)"
      ]
    },
    {
      "cell_type": "code",
      "execution_count": null,
      "metadata": {
        "id": "SoyCRdcMb2yo"
      },
      "outputs": [],
      "source": [
        "a=\"Wise In Company\"\n",
        "print(a[3])\n",
        "print(a[-3])\n",
        "\n",
        "print(a[0:15])\n",
        "print(a[4:])\n",
        "print(a[0:4])"
      ]
    },
    {
      "cell_type": "markdown",
      "metadata": {
        "id": "ZfeAJNywb2yp"
      },
      "source": [
        "## 리스트"
      ]
    },
    {
      "cell_type": "code",
      "execution_count": null,
      "metadata": {
        "id": "tr-4KmJtb2yp"
      },
      "outputs": [],
      "source": [
        "a=[1,2,3,4,5]\n",
        "print(a)\n",
        "\n",
        "a=[1,2,3,4,5]\n",
        "print(a[0])\n",
        "print(a[-1])\n",
        "\n",
        "a=[1,2,3,4,5]\n",
        "print(a[0:5])\n",
        "print(a[:5])\n",
        "print(a[2:])"
      ]
    },
    {
      "cell_type": "code",
      "execution_count": null,
      "metadata": {
        "id": "mO3d397vb2yp"
      },
      "outputs": [],
      "source": [
        "a=[1,2,3,4,5]\n",
        "a.append(6)\n",
        "a[0]=0\n",
        "del a[1]\n",
        "print(a)"
      ]
    },
    {
      "cell_type": "code",
      "execution_count": null,
      "metadata": {
        "id": "juUATC7-b2yq"
      },
      "outputs": [],
      "source": [
        "a=[1,2]\n",
        "b=[3,4,5]\n",
        "c=a+b\n",
        "print(c)\n",
        "\n",
        "d=a*3\n",
        "print(d)"
      ]
    },
    {
      "cell_type": "markdown",
      "metadata": {
        "id": "Da1eTUOvb2yq"
      },
      "source": [
        "## 튜플"
      ]
    },
    {
      "cell_type": "code",
      "execution_count": null,
      "metadata": {
        "id": "Nb17wHmbb2yq"
      },
      "outputs": [],
      "source": [
        "t=(1,2,3,4,5)\n",
        "\n",
        "t1=(1,2,3)\n",
        "print(t[1])\n",
        "print(t[0:3])"
      ]
    },
    {
      "cell_type": "code",
      "execution_count": null,
      "metadata": {
        "id": "VDBnToK1b2yq"
      },
      "outputs": [],
      "source": [
        "a=(1,2)\n",
        "b=(3,4,5)\n",
        "c=a+b\n",
        "print(d)\n",
        "\n",
        "d=a*3\n",
        "print(d)"
      ]
    },
    {
      "cell_type": "code",
      "execution_count": null,
      "metadata": {
        "id": "HF1NFFKAb2yr"
      },
      "outputs": [],
      "source": [
        "name=(\"David\", \"Kim\")\n",
        "print(name)\n",
        "\n",
        "firstname, lastname=(\"David\", \"Kim\")\n",
        "print(lastname, \", \", firstname)"
      ]
    },
    {
      "cell_type": "markdown",
      "metadata": {
        "id": "ED-Ol3xVb2yr"
      },
      "source": [
        "## 집합"
      ]
    },
    {
      "cell_type": "code",
      "execution_count": null,
      "metadata": {
        "id": "AwLYhp9zb2yr"
      },
      "outputs": [],
      "source": [
        "set={1,1,2,3}\n",
        "print(set)"
      ]
    },
    {
      "cell_type": "code",
      "execution_count": null,
      "metadata": {
        "id": "Db-76NFkb2yr"
      },
      "outputs": [],
      "source": [
        "set={1,1,2,3}\n",
        "set.add(4)\n",
        "set"
      ]
    },
    {
      "cell_type": "code",
      "execution_count": null,
      "metadata": {
        "id": "veP2MjlZb2yr"
      },
      "outputs": [],
      "source": [
        "set={1,1,2,3}\n",
        "set.update({4,5,6})\n",
        "set"
      ]
    },
    {
      "cell_type": "code",
      "execution_count": null,
      "metadata": {
        "id": "NEY8r1wOb2yr"
      },
      "outputs": [],
      "source": [
        "set.remove(1)\n",
        "set"
      ]
    },
    {
      "cell_type": "code",
      "execution_count": null,
      "metadata": {
        "id": "z7SYMTnUb2yr"
      },
      "outputs": [],
      "source": [
        "set.clear()\n",
        "set"
      ]
    },
    {
      "cell_type": "code",
      "execution_count": null,
      "metadata": {
        "id": "95rC2aHxb2ys"
      },
      "outputs": [],
      "source": [
        "a={1,2,3}\n",
        "b={1,3,4}\n",
        "\n",
        "c=a&b\n",
        "print(c)\n",
        "\n",
        "d=a|b\n",
        "print(d)\n",
        "\n",
        "e=a-b\n",
        "print(e)"
      ]
    },
    {
      "cell_type": "markdown",
      "metadata": {
        "id": "Z19upYdsb2ys"
      },
      "source": [
        "## 사전"
      ]
    },
    {
      "cell_type": "code",
      "execution_count": null,
      "metadata": {
        "id": "nQCWTVdLb2ys"
      },
      "outputs": [],
      "source": [
        "test={\"Kim\":90, \"Jeong\":80, \"Park\":75}\n",
        "test[\"Kim\"]"
      ]
    },
    {
      "cell_type": "code",
      "execution_count": null,
      "metadata": {
        "id": "EidBcmcAb2ys"
      },
      "outputs": [],
      "source": [
        "test={\"Kim\":90, \"Jeong\":80, \"Park\":75}\n",
        "test[\"Jeong\"]=85\n",
        "test[\"Cho\"]=95\n",
        "del test[\"Park\"]\n",
        "print(test)"
      ]
    },
    {
      "cell_type": "code",
      "execution_count": null,
      "metadata": {
        "id": "N3v_phV8b2ys"
      },
      "outputs": [],
      "source": [
        "test={\"Kim\":90, \"Jeong\":80, \"Park\":75}\n",
        "print(test.keys())\n",
        "print(test.values())"
      ]
    },
    {
      "cell_type": "markdown",
      "metadata": {
        "id": "9Qo-N80eb2ys"
      },
      "source": [
        "## if문"
      ]
    },
    {
      "cell_type": "code",
      "execution_count": null,
      "metadata": {
        "id": "62rT9ugIb2ys"
      },
      "outputs": [],
      "source": [
        "money=4000\n",
        "\n",
        "if money==3000:\n",
        "    print(\"KTX 타고 가자\")\n",
        "elif money>=5000:\n",
        "    print(\"버스 타고 가자\")\n",
        "else:\n",
        "    print(\"걍 걸어가!\")"
      ]
    },
    {
      "cell_type": "markdown",
      "metadata": {
        "id": "YaPj_BHCb2ys"
      },
      "source": [
        "## for문"
      ]
    },
    {
      "cell_type": "code",
      "execution_count": null,
      "metadata": {
        "id": "YS0_QyTIb2ys"
      },
      "outputs": [],
      "source": [
        "sum=0\n",
        "for i in range(11):\n",
        "    sum=sum+i\n",
        "print(sum)"
      ]
    },
    {
      "cell_type": "code",
      "execution_count": null,
      "metadata": {
        "id": "9D8NloMYb2yt"
      },
      "outputs": [],
      "source": [
        "list=[\"Wise\", \"In\", \"Company\"]\n",
        "for s in list:\n",
        "    print(s)"
      ]
    },
    {
      "cell_type": "markdown",
      "metadata": {
        "id": "SPq1uCHAb2yt"
      },
      "source": [
        "## while문"
      ]
    },
    {
      "cell_type": "code",
      "execution_count": null,
      "metadata": {
        "id": "c1ovKwwVb2yt"
      },
      "outputs": [],
      "source": [
        "i=0\n",
        "while i<10:\n",
        "    print(i)\n",
        "    i=i+1"
      ]
    },
    {
      "cell_type": "code",
      "execution_count": null,
      "metadata": {
        "id": "mWPySVGxb2yt"
      },
      "outputs": [],
      "source": [
        "food=[\"apple\", \"banana\", \"bread\"]\n",
        "i=0\n",
        "while i < len(food):\n",
        "    print(food[i])\n",
        "    i=i+1"
      ]
    },
    {
      "cell_type": "markdown",
      "metadata": {
        "id": "7VBUEdxab2yt"
      },
      "source": [
        "## Pandas함수와 데이터다루기"
      ]
    },
    {
      "cell_type": "code",
      "execution_count": null,
      "metadata": {
        "id": "KpiRvCX6b2yt"
      },
      "outputs": [],
      "source": [
        "import pandas as pd\n",
        "from pandas import Series, DataFrame"
      ]
    },
    {
      "cell_type": "code",
      "execution_count": null,
      "metadata": {
        "id": "ZG6wwX00b2yt"
      },
      "outputs": [],
      "source": [
        "a=Series([1,3,5,7])\n",
        "a"
      ]
    },
    {
      "cell_type": "code",
      "execution_count": null,
      "metadata": {
        "id": "FBJz1Q9eb2yt"
      },
      "outputs": [],
      "source": [
        "a.values"
      ]
    },
    {
      "cell_type": "code",
      "execution_count": null,
      "metadata": {
        "id": "SqOgveoVb2yt"
      },
      "outputs": [],
      "source": [
        "a.index"
      ]
    },
    {
      "cell_type": "code",
      "execution_count": null,
      "metadata": {
        "id": "Df0wptf3b2yt"
      },
      "outputs": [],
      "source": [
        "a2=pd.Series([1,3,5,7], index=['a','b','c', 'd'])\n",
        "a2"
      ]
    },
    {
      "cell_type": "code",
      "execution_count": null,
      "metadata": {
        "id": "ts-lrzkLb2yu"
      },
      "outputs": [],
      "source": [
        "df=pd.read_csv('cosmetics_.csv')\n",
        "df"
      ]
    },
    {
      "cell_type": "code",
      "execution_count": null,
      "metadata": {
        "id": "Bhb8QKoFb2yu"
      },
      "outputs": [],
      "source": [
        "df=pd.read_excel('cosmetics_.xlsx')\n",
        "df"
      ]
    },
    {
      "cell_type": "code",
      "execution_count": null,
      "metadata": {
        "id": "_1HW28sub2yu"
      },
      "outputs": [],
      "source": [
        "dfk=pd.read_csv('cosmeticsKR_.csv', encoding='euc-kr')\n",
        "dfk"
      ]
    },
    {
      "cell_type": "code",
      "execution_count": null,
      "metadata": {
        "id": "dIComcJqb2yu"
      },
      "outputs": [],
      "source": [
        "df.head()"
      ]
    },
    {
      "cell_type": "code",
      "execution_count": null,
      "metadata": {
        "id": "_c5tMYCrb2yu"
      },
      "outputs": [],
      "source": [
        " df.tail()"
      ]
    },
    {
      "cell_type": "code",
      "execution_count": null,
      "metadata": {
        "id": "bsnkg0-ub2yu"
      },
      "outputs": [],
      "source": [
        "df[1:5]"
      ]
    },
    {
      "cell_type": "code",
      "execution_count": null,
      "metadata": {
        "id": "axM2Nzzeb2yu"
      },
      "outputs": [],
      "source": [
        "df[:3]"
      ]
    },
    {
      "cell_type": "code",
      "execution_count": null,
      "metadata": {
        "id": "FYJK1MMBb2yu"
      },
      "outputs": [],
      "source": [
        "df[245:]"
      ]
    },
    {
      "cell_type": "code",
      "execution_count": null,
      "metadata": {
        "id": "mHcpUXDEb2yu"
      },
      "outputs": [],
      "source": [
        "df['amount']"
      ]
    },
    {
      "cell_type": "code",
      "execution_count": null,
      "metadata": {
        "id": "Plg97Ey8b2yu"
      },
      "outputs": [],
      "source": [
        "df.amount"
      ]
    },
    {
      "cell_type": "code",
      "execution_count": null,
      "metadata": {
        "id": "kL8lCW0ob2yu"
      },
      "outputs": [],
      "source": [
        "df[df.columns[[1,3,10]]]"
      ]
    },
    {
      "cell_type": "code",
      "execution_count": null,
      "metadata": {
        "id": "YHwPeC12b2yu"
      },
      "outputs": [],
      "source": [
        "df.loc[:, 'decision':'location']"
      ]
    },
    {
      "cell_type": "code",
      "execution_count": null,
      "metadata": {
        "id": "n1UOzMGgb2yv"
      },
      "outputs": [],
      "source": [
        "df.iloc[1:7, 0:2]"
      ]
    },
    {
      "cell_type": "code",
      "execution_count": null,
      "metadata": {
        "id": "9AsRCUGvb2yv"
      },
      "outputs": [],
      "source": [
        "df.at[5, 'amount']"
      ]
    },
    {
      "cell_type": "code",
      "execution_count": null,
      "metadata": {
        "id": "SUbAKimBb2yv"
      },
      "outputs": [],
      "source": [
        "df_columns = df.copy()"
      ]
    },
    {
      "cell_type": "code",
      "execution_count": null,
      "metadata": {
        "id": "vEb0NX4vb2yv"
      },
      "outputs": [],
      "source": [
        "df_columns.columns"
      ]
    },
    {
      "cell_type": "code",
      "execution_count": null,
      "metadata": {
        "id": "DoqvBuHcb2yv"
      },
      "outputs": [],
      "source": [
        "df_columns = df_columns[['gender','marriage','edu','job','mincome']]\n",
        "df_columns.head()"
      ]
    },
    {
      "cell_type": "code",
      "execution_count": null,
      "metadata": {
        "id": "Jo9PZOlSb2yv"
      },
      "outputs": [],
      "source": [
        "df_columns.columns = ['gender','marriage','edu','job','mincome']"
      ]
    },
    {
      "cell_type": "code",
      "execution_count": null,
      "metadata": {
        "id": "APF-sIlMb2yv"
      },
      "outputs": [],
      "source": [
        "df_columns.rename(columns={'job': 'occupation'}, inplace=True)"
      ]
    },
    {
      "cell_type": "code",
      "execution_count": null,
      "metadata": {
        "id": "lDVtc1Gpb2yv"
      },
      "outputs": [],
      "source": [
        "df_columns.head()"
      ]
    },
    {
      "cell_type": "code",
      "execution_count": null,
      "metadata": {
        "id": "C5qGC5KCb2yv"
      },
      "outputs": [],
      "source": [
        "df['tex-inclued price']=df['amount']*1.1"
      ]
    },
    {
      "cell_type": "code",
      "execution_count": null,
      "metadata": {
        "id": "TNLlWlBvb2yv"
      },
      "outputs": [],
      "source": [
        "df.insert(8,'total price', df['amount']*12)"
      ]
    },
    {
      "cell_type": "code",
      "execution_count": null,
      "metadata": {
        "id": "uifKF9X2b2yv"
      },
      "outputs": [],
      "source": [
        "df.head()"
      ]
    },
    {
      "cell_type": "code",
      "execution_count": null,
      "metadata": {
        "id": "UFS2PFrPb2yw"
      },
      "outputs": [],
      "source": [
        "del df['total price']\n",
        "del df['tex-inclued price']"
      ]
    },
    {
      "cell_type": "code",
      "execution_count": null,
      "metadata": {
        "id": "Q7IWAe_1b2yw"
      },
      "outputs": [],
      "source": [
        "df.head()"
      ]
    },
    {
      "cell_type": "code",
      "execution_count": null,
      "metadata": {
        "id": "K-NAU-Ppb2yw"
      },
      "outputs": [],
      "source": [
        "df_gender=df[(df['gender']==1)] \n",
        "df_gender"
      ]
    },
    {
      "cell_type": "code",
      "execution_count": null,
      "metadata": {
        "id": "VaH9wRbab2yw"
      },
      "outputs": [],
      "source": [
        "df_reacount=df[(df['count']<10) & (df['count']>=1)]  \n",
        "# 연 구매횟수1회~9회 이하\n",
        "df_reacount"
      ]
    },
    {
      "cell_type": "code",
      "execution_count": null,
      "metadata": {
        "id": "a77ZtTP1b2yw"
      },
      "outputs": [],
      "source": [
        "df['edu'].value_counts(sort=False)"
      ]
    },
    {
      "cell_type": "code",
      "execution_count": null,
      "metadata": {
        "id": "PydNGqhlb2yw"
      },
      "outputs": [],
      "source": [
        "def edu_groups(series):\n",
        "    if series==2:\n",
        "        return 1\n",
        "    elif series==3 or series==4:\n",
        "        return 2\n",
        "    elif series>=5:\n",
        "        return 3"
      ]
    },
    {
      "cell_type": "code",
      "execution_count": null,
      "metadata": {
        "id": "4mYFa514b2yw"
      },
      "outputs": [],
      "source": [
        "df['eduM']=df['edu'].apply(edu_groups)"
      ]
    },
    {
      "cell_type": "code",
      "execution_count": null,
      "metadata": {
        "id": "zgbKNnuZb2yw"
      },
      "outputs": [],
      "source": [
        "df['eduM'].value_counts(sort=False)"
      ]
    }
  ],
  "metadata": {
    "kernelspec": {
      "display_name": "Python 3",
      "language": "python",
      "name": "python3"
    },
    "language_info": {
      "codemirror_mode": {
        "name": "ipython",
        "version": 3
      },
      "file_extension": ".py",
      "mimetype": "text/x-python",
      "name": "python",
      "nbconvert_exporter": "python",
      "pygments_lexer": "ipython3",
      "version": "3.7.2"
    },
    "colab": {
      "name": "Python수업코드.ipynb",
      "provenance": [],
      "include_colab_link": true
    }
  },
  "nbformat": 4,
  "nbformat_minor": 0
}