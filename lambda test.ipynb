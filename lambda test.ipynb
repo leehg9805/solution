{
 "cells": [
  {
   "cell_type": "code",
   "execution_count": 2,
   "id": "94a7ab24",
   "metadata": {},
   "outputs": [
    {
     "data": {
      "text/plain": [
       "25.0"
      ]
     },
     "execution_count": 2,
     "metadata": {},
     "output_type": "execute_result"
    }
   ],
   "source": [
    "def calc(base,height):\n",
    "    return base*height/2\n",
    "\n",
    "calc(5,10)"
   ]
  },
  {
   "cell_type": "code",
   "execution_count": 4,
   "id": "710cb1dd",
   "metadata": {},
   "outputs": [
    {
     "data": {
      "text/plain": [
       "25.0"
      ]
     },
     "execution_count": 4,
     "metadata": {},
     "output_type": "execute_result"
    }
   ],
   "source": [
    "(lambda base, height: base*height/2)(5,10)"
   ]
  },
  {
   "cell_type": "code",
   "execution_count": 5,
   "id": "e7eda995",
   "metadata": {},
   "outputs": [],
   "source": [
    "func = lambda base, height: base*height/2"
   ]
  },
  {
   "cell_type": "code",
   "execution_count": 8,
   "id": "d959491f",
   "metadata": {},
   "outputs": [
    {
     "data": {
      "text/plain": [
       "25.0"
      ]
     },
     "execution_count": 8,
     "metadata": {},
     "output_type": "execute_result"
    }
   ],
   "source": [
    "func(5,10)"
   ]
  },
  {
   "cell_type": "code",
   "execution_count": 21,
   "id": "c05d3b67",
   "metadata": {},
   "outputs": [],
   "source": [
    "names = ['Jang', 'Kim','Park', 'Choi']"
   ]
  },
  {
   "cell_type": "code",
   "execution_count": 23,
   "id": "4eda09a3",
   "metadata": {},
   "outputs": [
    {
     "data": {
      "text/plain": [
       "['JANG', 'KIM', 'PARK', 'CHOI']"
      ]
     },
     "execution_count": 23,
     "metadata": {},
     "output_type": "execute_result"
    }
   ],
   "source": [
    "upper_case_names1 = []\n",
    "for name in names:\n",
    "  upper_case_names1.append(name.upper())\n",
    "\n",
    "upper_case_names1"
   ]
  },
  {
   "cell_type": "code",
   "execution_count": 25,
   "id": "58d4f82f",
   "metadata": {},
   "outputs": [
    {
     "data": {
      "text/plain": [
       "['JANG', 'KIM', 'PARK', 'CHOI']"
      ]
     },
     "execution_count": 25,
     "metadata": {},
     "output_type": "execute_result"
    }
   ],
   "source": [
    "upper_case_names2 = [name.upper() for name in names]\n",
    "upper_case_names2"
   ]
  },
  {
   "cell_type": "code",
   "execution_count": 26,
   "id": "c72dc2c1",
   "metadata": {},
   "outputs": [
    {
     "data": {
      "text/plain": [
       "['JANG', 'KIM', 'PARK', 'CHOI']"
      ]
     },
     "execution_count": 26,
     "metadata": {},
     "output_type": "execute_result"
    }
   ],
   "source": [
    "upper_case_name3 = list(map(lambda name: name.upper(), names))\n",
    "upper_case_name3"
   ]
  }
 ],
 "metadata": {
  "kernelspec": {
   "display_name": "Python 3 (ipykernel)",
   "language": "python",
   "name": "python3"
  },
  "language_info": {
   "codemirror_mode": {
    "name": "ipython",
    "version": 3
   },
   "file_extension": ".py",
   "mimetype": "text/x-python",
   "name": "python",
   "nbconvert_exporter": "python",
   "pygments_lexer": "ipython3",
   "version": "3.9.7"
  }
 },
 "nbformat": 4,
 "nbformat_minor": 5
}
